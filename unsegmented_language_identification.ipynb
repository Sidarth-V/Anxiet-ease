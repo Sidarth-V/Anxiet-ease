{
  "cells": [
    {
      "cell_type": "markdown",
      "metadata": {
        "id": "view-in-github",
        "colab_type": "text"
      },
      "source": [
        "<a href=\"https://colab.research.google.com/github/Sidarth-V/Anxiet-ease/blob/main/unsegmented_language_identification.ipynb\" target=\"_parent\"><img src=\"https://colab.research.google.com/assets/colab-badge.svg\" alt=\"Open In Colab\"/></a>"
      ]
    },
    {
      "cell_type": "code",
      "source": [
        "!pip install torchmetrics"
      ],
      "metadata": {
        "id": "kymJczAlzD4V",
        "colab": {
          "base_uri": "https://localhost:8080/"
        },
        "outputId": "f95c3660-f910-44ca-d019-46eb835bf84c"
      },
      "id": "kymJczAlzD4V",
      "execution_count": 32,
      "outputs": [
        {
          "output_type": "stream",
          "name": "stdout",
          "text": [
            "Looking in indexes: https://pypi.org/simple, https://us-python.pkg.dev/colab-wheels/public/simple/\n",
            "Requirement already satisfied: torchmetrics in /usr/local/lib/python3.9/dist-packages (0.11.4)\n",
            "Requirement already satisfied: numpy>=1.17.2 in /usr/local/lib/python3.9/dist-packages (from torchmetrics) (1.22.4)\n",
            "Requirement already satisfied: packaging in /usr/local/lib/python3.9/dist-packages (from torchmetrics) (23.0)\n",
            "Requirement already satisfied: torch>=1.8.1 in /usr/local/lib/python3.9/dist-packages (from torchmetrics) (1.13.1+cu116)\n",
            "Requirement already satisfied: typing-extensions in /usr/local/lib/python3.9/dist-packages (from torch>=1.8.1->torchmetrics) (4.5.0)\n"
          ]
        }
      ]
    },
    {
      "cell_type": "code",
      "source": [
        "from google.colab import drive\n",
        "drive.mount('/content/drive')"
      ],
      "metadata": {
        "colab": {
          "base_uri": "https://localhost:8080/"
        },
        "id": "lIGVXCUXqen-",
        "outputId": "44b6afed-83aa-455f-eef9-3c439114ea82"
      },
      "id": "lIGVXCUXqen-",
      "execution_count": 33,
      "outputs": [
        {
          "output_type": "stream",
          "name": "stdout",
          "text": [
            "Drive already mounted at /content/drive; to attempt to forcibly remount, call drive.mount(\"/content/drive\", force_remount=True).\n"
          ]
        }
      ]
    },
    {
      "cell_type": "code",
      "source": [
        "import random\n",
        "import numpy as np\n",
        "import pandas as pd\n",
        "import torch\n",
        "import torch.nn.functional as F\n",
        "import time\n",
        "import os\n",
        "from google.colab import drive\n",
        "from sklearn.model_selection import train_test_split\n",
        "from torchmetrics.functional.classification import multiclass_precision\n",
        "from torchmetrics.functional.classification import multiclass_recall\n",
        "from torchmetrics.functional.classification import multiclass_f1_score"
      ],
      "metadata": {
        "id": "sBTriQSpjHKC"
      },
      "id": "sBTriQSpjHKC",
      "execution_count": 34,
      "outputs": []
    },
    {
      "cell_type": "code",
      "source": [
        "# init random seed to get reproducible results\n",
        "seed = 1111\n",
        "random.seed(seed)\n",
        "np.random.RandomState(seed)\n",
        "torch.manual_seed(seed)"
      ],
      "metadata": {
        "id": "QY9KCMq7kcd0",
        "colab": {
          "base_uri": "https://localhost:8080/"
        },
        "outputId": "850af8cd-18da-46b1-db7a-9349a3a5c66d"
      },
      "id": "QY9KCMq7kcd0",
      "execution_count": 35,
      "outputs": [
        {
          "output_type": "execute_result",
          "data": {
            "text/plain": [
              "<torch._C.Generator at 0x7fa7eb7554f0>"
            ]
          },
          "metadata": {},
          "execution_count": 35
        }
      ]
    },
    {
      "cell_type": "code",
      "source": [
        "# importing dataset\n",
        "INPUTDIR = \"drive/My Drive/Team 5_E1/unsegmented.csv\"\n",
        "\n",
        "raw = pd.read_csv(f'{INPUTDIR}')\n",
        "x_train_full = raw['Text']\n",
        "y_train_full = raw['language']\n",
        "\n",
        "print('Example:')\n",
        "print('LANG =', y_train_full[0])\n",
        "print('TEXT =', x_train_full[0])"
      ],
      "metadata": {
        "id": "3J8_c1RbjKXe",
        "colab": {
          "base_uri": "https://localhost:8080/"
        },
        "outputId": "9b7ca137-a77e-4906-9c9c-020e30ff71e7"
      },
      "id": "3J8_c1RbjKXe",
      "execution_count": 36,
      "outputs": [
        {
          "output_type": "stream",
          "name": "stdout",
          "text": [
            "Example:\n",
            "LANG = Thai\n",
            "TEXT = ถนนเจริญกรุง อักษรโรมัน thanon charoen krung เริ่มตั้งแต่ถนนสนามไชยถึงแม่น้ำเจ้าพระยาที่ถนนตก กรุงเทพมหานคร เป็นถนนรุ่นแรกที่ใช้เทคนิคการสร้างแบบตะวันตก ปัจจุบันผ่านพื้นที่เขตพระนคร เขตป้อมปราบศัตรูพ่าย เขตสัมพันธวงศ์ เขตบางรัก เขตสาทร และเขตบางคอแหลม\n"
          ]
        }
      ]
    },
    {
      "cell_type": "code",
      "execution_count": 37,
      "id": "tracked-power",
      "metadata": {
        "_cell_guid": "79c7e3d0-c299-4dcb-8224-4455121ee9b0",
        "_uuid": "d629ff2d2480ee46fbb7e2d37f6b5fab8052498a",
        "execution": {
          "iopub.execute_input": "2021-04-09T10:01:52.650408Z",
          "iopub.status.busy": "2021-04-09T10:01:52.649558Z",
          "iopub.status.idle": "2021-04-09T10:01:52.653389Z",
          "shell.execute_reply": "2021-04-09T10:01:52.653997Z"
        },
        "papermill": {
          "duration": 0.03524,
          "end_time": "2021-04-09T10:01:52.654197",
          "exception": false,
          "start_time": "2021-04-09T10:01:52.618957",
          "status": "completed"
        },
        "tags": [],
        "id": "tracked-power"
      },
      "outputs": [],
      "source": [
        "class Dictionary(object):\n",
        "    def __init__(self):\n",
        "        self.token2idx = {}\n",
        "        self.idx2token = []\n",
        "\n",
        "    def add_token(self, token):\n",
        "        if token not in self.token2idx:\n",
        "            self.idx2token.append(token)\n",
        "            self.token2idx[token] = len(self.idx2token) - 1\n",
        "        return self.token2idx[token]\n",
        "\n",
        "    def __len__(self):\n",
        "        return len(self.idx2token)"
      ]
    },
    {
      "cell_type": "markdown",
      "id": "annoying-trust",
      "metadata": {
        "papermill": {
          "duration": 0.022557,
          "end_time": "2021-04-09T10:01:52.699652",
          "exception": false,
          "start_time": "2021-04-09T10:01:52.677095",
          "status": "completed"
        },
        "tags": [],
        "id": "annoying-trust"
      },
      "source": [
        "The **Dictionary** class is used to map tokens (characters, words, subwords) into consecutive integer indexes.  \n",
        "The index **0** is reserved for padding sequences up to a fixed length, and the index **1** for any 'unknown' character"
      ]
    },
    {
      "cell_type": "code",
      "execution_count": 38,
      "id": "excited-makeup",
      "metadata": {
        "execution": {
          "iopub.execute_input": "2021-04-09T10:01:53.107415Z",
          "iopub.status.busy": "2021-04-09T10:01:53.106520Z",
          "iopub.status.idle": "2021-04-09T10:01:53.110180Z",
          "shell.execute_reply": "2021-04-09T10:01:53.110784Z"
        },
        "papermill": {
          "duration": 0.38017,
          "end_time": "2021-04-09T10:01:53.111008",
          "exception": false,
          "start_time": "2021-04-09T10:01:52.730838",
          "status": "completed"
        },
        "tags": [],
        "id": "excited-makeup",
        "colab": {
          "base_uri": "https://localhost:8080/"
        },
        "outputId": "066e0829-8141-428d-c185-83dbb7cdd043"
      },
      "outputs": [
        {
          "output_type": "stream",
          "name": "stdout",
          "text": [
            "Vocabulary: 6962 UTF characters\n",
            "Labels: 9 languages\n"
          ]
        }
      ],
      "source": [
        "char_vocab = Dictionary()\n",
        "\n",
        "# reserve index 0 for padding\n",
        "pad_token = '<pad>'\n",
        "\n",
        "# reserve index 1 for unknown token\n",
        "unk_token = '<unk>'\n",
        "\n",
        "pad_index = char_vocab.add_token(pad_token)\n",
        "unk_index = char_vocab.add_token(unk_token)\n",
        "\n",
        "# join all the training sentences in a single string\n",
        "chars = set(''.join(x_train_full))\n",
        "\n",
        "# obtain the list of different characters with set\n",
        "for char in sorted(chars):\n",
        "    char_vocab.add_token(char)\n",
        "print(\"Vocabulary:\", len(char_vocab), \"UTF characters\")\n",
        "\n",
        "# creating dictionary with unique languages\n",
        "lang_vocab = Dictionary()\n",
        "\n",
        "languages = set(y_train_full)\n",
        "for lang in sorted(languages):\n",
        "    lang_vocab.add_token(lang)\n",
        "print(\"Labels:\", len(lang_vocab), \"languages\")"
      ]
    },
    {
      "cell_type": "code",
      "execution_count": 39,
      "id": "daily-immigration",
      "metadata": {
        "execution": {
          "iopub.execute_input": "2021-04-09T10:01:53.191060Z",
          "iopub.status.busy": "2021-04-09T10:01:53.180739Z",
          "iopub.status.idle": "2021-04-09T10:01:55.659944Z",
          "shell.execute_reply": "2021-04-09T10:01:55.660714Z"
        },
        "papermill": {
          "duration": 2.533233,
          "end_time": "2021-04-09T10:01:55.660929",
          "exception": false,
          "start_time": "2021-04-09T10:01:53.127696",
          "status": "completed"
        },
        "tags": [],
        "id": "daily-immigration",
        "colab": {
          "base_uri": "https://localhost:8080/"
        },
        "outputId": "39cfcd36-d075-4f95-c4b0-34d27ea5e197"
      },
      "outputs": [
        {
          "output_type": "stream",
          "name": "stdout",
          "text": [
            "Thai ถนนเจริญกร\n",
            "8 [512 515 515 548 498 525 541 503 493 525]\n"
          ]
        }
      ],
      "source": [
        "# first index of y_train and first 10 characters of x_train\n",
        "print(y_train_full[0], x_train_full[0][:10])\n",
        "\n",
        "# converting x_train to indexes of char_vocab\n",
        "x_train_idx = [np.array([char_vocab.token2idx[c] for c in line]) for line in x_train_full]\n",
        "\n",
        "# converting y_train to indexes of lang_vocab\n",
        "y_train_idx = np.array([lang_vocab.token2idx[lang] for lang in y_train_full])\n",
        "\n",
        "# first index of y_train_to_idx and first 10 idx's of x_train_to_idx\n",
        "print(y_train_idx[0], x_train_idx[0][:10])"
      ]
    },
    {
      "cell_type": "markdown",
      "id": "spare-artwork",
      "metadata": {
        "papermill": {
          "duration": 0.015729,
          "end_time": "2021-04-09T10:01:55.692528",
          "exception": false,
          "start_time": "2021-04-09T10:01:55.676799",
          "status": "completed"
        },
        "tags": [],
        "id": "spare-artwork"
      },
      "source": [
        "Radomly select 20% of the database for validation  \n",
        "Create lists of (input, target) tuples for training and validation"
      ]
    },
    {
      "cell_type": "code",
      "execution_count": 40,
      "id": "advanced-pittsburgh",
      "metadata": {
        "execution": {
          "iopub.execute_input": "2021-04-09T10:01:55.732296Z",
          "iopub.status.busy": "2021-04-09T10:01:55.731608Z",
          "iopub.status.idle": "2021-04-09T10:01:56.952002Z",
          "shell.execute_reply": "2021-04-09T10:01:56.952493Z"
        },
        "papermill": {
          "duration": 1.242636,
          "end_time": "2021-04-09T10:01:56.952654",
          "exception": false,
          "start_time": "2021-04-09T10:01:55.710018",
          "status": "completed"
        },
        "tags": [],
        "id": "advanced-pittsburgh",
        "colab": {
          "base_uri": "https://localhost:8080/"
        },
        "outputId": "3ec6f1e6-ec96-4a52-dec8-4dbfd913b1d3"
      },
      "outputs": [
        {
          "output_type": "stream",
          "name": "stdout",
          "text": [
            "7200 training samples\n",
            "1800 validation samples\n"
          ]
        }
      ],
      "source": [
        "# splitting into training and validation sets\n",
        "x_train, x_val, y_train, y_val = train_test_split(x_train_idx, y_train_idx, test_size=0.2, random_state=42)\n",
        "\n",
        "train_data = [(x, y) for x, y in zip(x_train, y_train)]\n",
        "val_data = [(x, y) for x, y in zip(x_val, y_val)]\n",
        "\n",
        "print(len(train_data), \"training samples\")\n",
        "print(len(val_data), \"validation samples\")"
      ]
    },
    {
      "cell_type": "code",
      "execution_count": 41,
      "id": "concerned-judge",
      "metadata": {
        "execution": {
          "iopub.execute_input": "2021-04-09T10:01:56.993984Z",
          "iopub.status.busy": "2021-04-09T10:01:56.993263Z",
          "iopub.status.idle": "2021-04-09T10:01:56.996358Z",
          "shell.execute_reply": "2021-04-09T10:01:56.995899Z"
        },
        "papermill": {
          "duration": 0.026961,
          "end_time": "2021-04-09T10:01:56.996482",
          "exception": false,
          "start_time": "2021-04-09T10:01:56.969521",
          "status": "completed"
        },
        "tags": [],
        "id": "concerned-judge"
      },
      "outputs": [],
      "source": [
        "def batch_generator(data, batch_size, token_size):\n",
        "    \"\"\"Yield elements from data in chunks with a maximum of batch_size sequences and token_size tokens.\"\"\"\n",
        "\n",
        "    minibatch, sequences_so_far, tokens_so_far = [], 0, 0\n",
        "    \n",
        "    for ex in data:\n",
        "        seq_len = len(ex[0])\n",
        "        if seq_len > token_size:\n",
        "            ex = (ex[0][:token_size], ex[1])\n",
        "            seq_len = token_size\n",
        "        minibatch.append(ex)\n",
        "        sequences_so_far += 1\n",
        "        tokens_so_far += seq_len\n",
        "        if sequences_so_far == batch_size or tokens_so_far == token_size:\n",
        "            yield minibatch\n",
        "            minibatch, sequences_so_far, tokens_so_far = [], 0, 0\n",
        "        elif sequences_so_far > batch_size or tokens_so_far > token_size:\n",
        "            yield minibatch[:-1]\n",
        "            minibatch, sequences_so_far, tokens_so_far = minibatch[-1:], 1, len(minibatch[-1][0])\n",
        "    if minibatch:\n",
        "        yield minibatch"
      ]
    },
    {
      "cell_type": "code",
      "execution_count": 42,
      "id": "violent-response",
      "metadata": {
        "execution": {
          "iopub.execute_input": "2021-04-09T10:01:57.036153Z",
          "iopub.status.busy": "2021-04-09T10:01:57.035353Z",
          "iopub.status.idle": "2021-04-09T10:01:57.038197Z",
          "shell.execute_reply": "2021-04-09T10:01:57.038587Z"
        },
        "papermill": {
          "duration": 0.026167,
          "end_time": "2021-04-09T10:01:57.038729",
          "exception": false,
          "start_time": "2021-04-09T10:01:57.012562",
          "status": "completed"
        },
        "tags": [],
        "id": "violent-response"
      },
      "outputs": [],
      "source": [
        "def pool_generator(data, batch_size, token_size, shuffle=False):\n",
        "    \"\"\"\n",
        "    Sort within buckets, then batch, then shuffle batches.\n",
        "    Partitions data into chunks of size 100*token_size, sorts examples within\n",
        "    each chunk, then batch these examples and shuffle the batches.\n",
        "    \"\"\"\n",
        "    for p in batch_generator(data, batch_size * 100, token_size * 100):\n",
        "        p_batch = batch_generator(sorted(p, key=lambda t: len(t[0]), reverse=True), batch_size, token_size)\n",
        "        p_list = list(p_batch)\n",
        "        if shuffle:\n",
        "            for b in random.sample(p_list, len(p_list)):\n",
        "                yield b\n",
        "        else:\n",
        "            for b in p_list:\n",
        "                yield b"
      ]
    },
    {
      "cell_type": "markdown",
      "id": "colored-giving",
      "metadata": {
        "papermill": {
          "duration": 0.016458,
          "end_time": "2021-04-09T10:01:57.071705",
          "exception": false,
          "start_time": "2021-04-09T10:01:57.055247",
          "status": "completed"
        },
        "tags": [],
        "id": "colored-giving"
      },
      "source": [
        "**DNN Model**  \n",
        "Includes Python comments with the dimension of the input  matrix:\n",
        "\n",
        "T = Max number of tokens in a sequence (n) <br>\n",
        "B = Number of sequences (batch size = 256) <br>\n",
        "E = Embedding dim (64) <br>\n",
        "H = Hidden size (256) <br>\n",
        "O = Output size (number of languages = 4) <br>"
      ]
    },
    {
      "cell_type": "code",
      "execution_count": 43,
      "id": "brown-scott",
      "metadata": {
        "execution": {
          "iopub.execute_input": "2021-04-09T10:01:57.115135Z",
          "iopub.status.busy": "2021-04-09T10:01:57.114263Z",
          "iopub.status.idle": "2021-04-09T10:01:57.117643Z",
          "shell.execute_reply": "2021-04-09T10:01:57.117081Z"
        },
        "papermill": {
          "duration": 0.029294,
          "end_time": "2021-04-09T10:01:57.117774",
          "exception": false,
          "start_time": "2021-04-09T10:01:57.088480",
          "status": "completed"
        },
        "tags": [],
        "id": "brown-scott"
      },
      "outputs": [],
      "source": [
        "class CharRNNClassifier(torch.nn.Module):\n",
        "\n",
        "    def __init__(self, input_size, embedding_size, hidden_size, output_size, model=\"gru\", num_layers=1, bidirectional=False, pad_idx=0):\n",
        "        super().__init__()\n",
        "        self.model = model.lower()\n",
        "        self.hidden_size = hidden_size\n",
        "        self.embed = torch.nn.Embedding(input_size, embedding_size, padding_idx=pad_idx)\n",
        "        self.rnn = torch.nn.GRU(embedding_size, hidden_size, num_layers, bidirectional=bidirectional)\n",
        "        self.h2o = torch.nn.Linear(hidden_size, output_size)\n",
        "        \n",
        "    def forward(self, input, input_lengths):        \n",
        "        # T x B\n",
        "        encoded = self.embed(input)\n",
        "        # T x B x E\n",
        "        packed = torch.nn.utils.rnn.pack_padded_sequence(encoded, input_lengths)\n",
        "        # Packed T x B x E\n",
        "        output, _ = self.rnn(packed)\n",
        "        # Packed T x B x H\n",
        "        # Important: you may need to replace '-inf' with the default zero padding for other pooling layers\n",
        "        padded, _ = torch.nn.utils.rnn.pad_packed_sequence(output, padding_value=float('-inf'))\n",
        "        # T x B x H\n",
        "        output, _ = padded.max(dim=0)\n",
        "        # B x H\n",
        "        output = self.h2o(output)\n",
        "        # B x O\n",
        "        return output"
      ]
    },
    {
      "cell_type": "code",
      "execution_count": 44,
      "id": "coordinated-memorabilia",
      "metadata": {
        "execution": {
          "iopub.execute_input": "2021-04-09T10:01:57.712222Z",
          "iopub.status.busy": "2021-04-09T10:01:57.711333Z",
          "iopub.status.idle": "2021-04-09T10:01:57.715124Z",
          "shell.execute_reply": "2021-04-09T10:01:57.714664Z"
        },
        "papermill": {
          "duration": 0.580583,
          "end_time": "2021-04-09T10:01:57.715265",
          "exception": false,
          "start_time": "2021-04-09T10:01:57.134682",
          "status": "completed"
        },
        "tags": [],
        "id": "coordinated-memorabilia"
      },
      "outputs": [],
      "source": [
        "if not torch.cuda.is_available():\n",
        "    print(\"WARNING: CUDA is not available. Select 'GPU On' on kernel settings\")\n",
        "device = torch.device(\"cuda\")\n",
        "torch.cuda.manual_seed(seed)"
      ]
    },
    {
      "cell_type": "code",
      "execution_count": 45,
      "id": "palestinian-stage",
      "metadata": {
        "execution": {
          "iopub.execute_input": "2021-04-09T10:01:57.788707Z",
          "iopub.status.busy": "2021-04-09T10:01:57.787837Z",
          "iopub.status.idle": "2021-04-09T10:01:57.790986Z",
          "shell.execute_reply": "2021-04-09T10:01:57.790534Z"
        },
        "papermill": {
          "duration": 0.024599,
          "end_time": "2021-04-09T10:01:57.791109",
          "exception": false,
          "start_time": "2021-04-09T10:01:57.766510",
          "status": "completed"
        },
        "tags": [],
        "id": "palestinian-stage"
      },
      "outputs": [],
      "source": [
        "criterion = torch.nn.CrossEntropyLoss(reduction='sum')"
      ]
    },
    {
      "cell_type": "markdown",
      "id": "temporal-jaguar",
      "metadata": {
        "papermill": {
          "duration": 0.016346,
          "end_time": "2021-04-09T10:01:57.748923",
          "exception": false,
          "start_time": "2021-04-09T10:01:57.732577",
          "status": "completed"
        },
        "tags": [],
        "id": "temporal-jaguar"
      },
      "source": [
        "The **nn.CrossEntropyLoss()** criterion combines **nn.LogSoftmax()** and **nn.NLLLoss()** in one single class.  \n",
        "It is useful when training a classification problem."
      ]
    },
    {
      "cell_type": "code",
      "execution_count": 46,
      "id": "determined-needle",
      "metadata": {
        "execution": {
          "iopub.execute_input": "2021-04-09T10:01:57.836301Z",
          "iopub.status.busy": "2021-04-09T10:01:57.835431Z",
          "iopub.status.idle": "2021-04-09T10:01:57.838493Z",
          "shell.execute_reply": "2021-04-09T10:01:57.838065Z"
        },
        "papermill": {
          "duration": 0.030527,
          "end_time": "2021-04-09T10:01:57.838613",
          "exception": false,
          "start_time": "2021-04-09T10:01:57.808086",
          "status": "completed"
        },
        "tags": [],
        "id": "determined-needle"
      },
      "outputs": [],
      "source": [
        "def train(model, optimizer, data, batch_size, token_size, max_norm=1, log=False):\n",
        "    model.train()\n",
        "    total_loss = 0\n",
        "    ncorrect = 0\n",
        "    nsentences = 0\n",
        "    ntokens = 0\n",
        "    niterations = 0\n",
        "    for batch in pool_generator(data, batch_size, token_size, shuffle=True):\n",
        "        # extracting x values from generated batch\n",
        "        X = [ torch.from_numpy(d[0]) for d in batch ]\n",
        " \n",
        "        # length of each x stored in X_lengths and converted to tensor\n",
        "        X_lengths = [x.numel() for x in X]\n",
        "        ntokens += sum(X_lengths)\n",
        "        X_lengths = torch.tensor(X_lengths, dtype=torch.long)\n",
        "\n",
        "        # extracting y from each batch into a tensor\n",
        "        y = torch.tensor([d[1] for d in batch], dtype=torch.long, device=device)\n",
        "\n",
        "        # Pad the input sequences to create a matrix\n",
        "        X = torch.nn.utils.rnn.pad_sequence(X).to(device)\n",
        "\n",
        "        '''\n",
        "        model.zero_grad() clears x.grad for every parameter x in the optimizer. \n",
        "        It’s important to call this before loss.backward(), otherwise you’ll \n",
        "        accumulate the gradients from multiple passes.\n",
        "        '''\n",
        "        model.zero_grad()\n",
        "\n",
        "        output = model(X, X_lengths)\n",
        "\n",
        "        '''\n",
        "        loss.backward() computes dloss/dx for every parameter x which has requires_grad=True\n",
        "        These are accumulated into x.grad for every parameter x\n",
        "        '''\n",
        "\n",
        "        loss = criterion(output, y)\n",
        "        loss.backward()\n",
        "\n",
        "        ''' \n",
        "        A \"bad minibatch\" can cause gradients to explode for some reason and the entire model \n",
        "        can become unstable after the update. A common solution to the exploding gradients \n",
        "        problem is limiting the max norm of the gradients with 'gradient clipping'.\n",
        "        '''\n",
        "        torch.nn.utils.clip_grad_norm_(model.parameters(), max_norm)\n",
        "\n",
        "        # optimizer.step updates the value of x using the gradient x.grad\n",
        "        optimizer.step()\n",
        "\n",
        "        # Training statistics\n",
        "        total_loss += loss.item()\n",
        "        ncorrect += (torch.max(output, 1)[1] == y).sum().item()\n",
        "        nsentences += y.numel()\n",
        "        niterations += 1\n",
        "    \n",
        "    total_loss = total_loss / nsentences\n",
        "    accuracy = 100 * ncorrect / nsentences\n",
        "    if log:\n",
        "        print(f'Train: wpb={ntokens//niterations}, bsz={nsentences//niterations}, num_updates={niterations}')\n",
        "    return accuracy"
      ]
    },
    {
      "cell_type": "code",
      "execution_count": 47,
      "id": "tired-intersection",
      "metadata": {
        "execution": {
          "iopub.execute_input": "2021-04-09T10:01:57.880436Z",
          "iopub.status.busy": "2021-04-09T10:01:57.879641Z",
          "iopub.status.idle": "2021-04-09T10:01:57.882203Z",
          "shell.execute_reply": "2021-04-09T10:01:57.882740Z"
        },
        "papermill": {
          "duration": 0.027501,
          "end_time": "2021-04-09T10:01:57.882904",
          "exception": false,
          "start_time": "2021-04-09T10:01:57.855403",
          "status": "completed"
        },
        "tags": [],
        "id": "tired-intersection"
      },
      "outputs": [],
      "source": [
        "def validate(model, data, batch_size, token_size):\n",
        "    model.eval()\n",
        "    # calculate accuracy on validation set\n",
        "    ncorrect = 0\n",
        "    nsentences = 0\n",
        "    nprecision = 0\n",
        "    nrecall = 0\n",
        "    nf1score = 0\n",
        "    count = 0\n",
        "\n",
        "    with torch.no_grad():\n",
        "        for batch in pool_generator(data, batch_size, token_size):\n",
        "            # Get input and target sequences from batch\n",
        "            X = [torch.from_numpy(d[0]) for d in batch]\n",
        "            X_lengths = torch.tensor([x.numel() for x in X], dtype=torch.long)\n",
        "            y = torch.tensor([d[1] for d in batch], dtype=torch.long, device=device)\n",
        "\n",
        "            # Pad the input sequences to create a matrix\n",
        "            X = torch.nn.utils.rnn.pad_sequence(X).to(device)\n",
        "            answer = model(X, X_lengths)\n",
        "            ncorrect += (torch.max(answer, 1)[1] == y).sum().item()\n",
        "            nsentences += y.numel()\n",
        "\n",
        "            pred = torch.max(answer, 1)[1]\n",
        "            \n",
        "\n",
        "            nprecision += multiclass_precision(pred, y, num_classes=9).item()\n",
        "            nrecall += multiclass_recall(pred, y, num_classes=9).item()\n",
        "            nf1score += multiclass_f1_score(pred, y, num_classes=9).item()\n",
        "            count += 1;\n",
        "        # calculating metrics\n",
        "        dev_acc = 100 * ncorrect / nsentences\n",
        "        precision = round(100 * nprecision / count, 2)\n",
        "        recall = round(100 * nrecall / count, 3)\n",
        "        f1score = round(100 * nf1score / count, 2)\n",
        "\n",
        "    return dev_acc, precision, recall, f1score"
      ]
    },
    {
      "cell_type": "code",
      "execution_count": 48,
      "id": "adaptive-desperate",
      "metadata": {
        "execution": {
          "iopub.execute_input": "2021-04-09T10:01:57.921651Z",
          "iopub.status.busy": "2021-04-09T10:01:57.920761Z",
          "iopub.status.idle": "2021-04-09T10:01:57.923930Z",
          "shell.execute_reply": "2021-04-09T10:01:57.923342Z"
        },
        "papermill": {
          "duration": 0.024075,
          "end_time": "2021-04-09T10:01:57.924066",
          "exception": false,
          "start_time": "2021-04-09T10:01:57.899991",
          "status": "completed"
        },
        "tags": [],
        "id": "adaptive-desperate"
      },
      "outputs": [],
      "source": [
        "hidden_size = 256\n",
        "embedding_size = 64\n",
        "bidirectional = False\n",
        "ntokens = len(char_vocab)\n",
        "nlabels = len(lang_vocab)"
      ]
    },
    {
      "cell_type": "markdown",
      "id": "julian-consciousness",
      "metadata": {
        "papermill": {
          "duration": 0.017289,
          "end_time": "2021-04-09T10:01:57.958365",
          "exception": false,
          "start_time": "2021-04-09T10:01:57.941076",
          "status": "completed"
        },
        "tags": [],
        "id": "julian-consciousness"
      },
      "source": [
        "Model for cross-validation"
      ]
    },
    {
      "cell_type": "code",
      "execution_count": 49,
      "id": "listed-confidentiality",
      "metadata": {
        "execution": {
          "iopub.execute_input": "2021-04-09T10:01:58.001586Z",
          "iopub.status.busy": "2021-04-09T10:01:58.000605Z",
          "iopub.status.idle": "2021-04-09T10:01:58.004104Z",
          "shell.execute_reply": "2021-04-09T10:01:58.003378Z"
        },
        "papermill": {
          "duration": 0.027812,
          "end_time": "2021-04-09T10:01:58.004293",
          "exception": false,
          "start_time": "2021-04-09T10:01:57.976481",
          "status": "completed"
        },
        "tags": [],
        "id": "listed-confidentiality"
      },
      "outputs": [],
      "source": [
        "def get_model():\n",
        "    model = CharRNNClassifier(ntokens, embedding_size, hidden_size, nlabels, bidirectional=bidirectional, pad_idx=pad_index).to(device)\n",
        "    optimizer = torch.optim.Adam(model.parameters())\n",
        "    return model, optimizer"
      ]
    },
    {
      "cell_type": "code",
      "execution_count": 50,
      "id": "lesser-dimension",
      "metadata": {
        "execution": {
          "iopub.execute_input": "2021-04-09T10:01:58.048821Z",
          "iopub.status.busy": "2021-04-09T10:01:58.047923Z",
          "iopub.status.idle": "2021-04-09T10:05:02.261042Z",
          "shell.execute_reply": "2021-04-09T10:05:02.261922Z"
        },
        "papermill": {
          "duration": 184.238815,
          "end_time": "2021-04-09T10:05:02.262166",
          "exception": false,
          "start_time": "2021-04-09T10:01:58.023351",
          "status": "completed"
        },
        "tags": [],
        "id": "lesser-dimension",
        "colab": {
          "base_uri": "https://localhost:8080/"
        },
        "outputId": "092aec0b-1088-41a0-a74a-b5f62b213cc5"
      },
      "outputs": [
        {
          "output_type": "stream",
          "name": "stdout",
          "text": [
            "Training cross-validation model for 25 epochs\n",
            "\n",
            "\n",
            "Epoch   | Training Accuracy  | Validation Accuracy | Precision  | Recall     | F1 Score   | Learning Rate\n",
            "----------------------------------------------------------------------------------------------------------\n",
            "1       | 82.06944444444444% | 95.61111111111111%  | 95.3%      | 94.655%    | 94.55%     | [0.001]   \n",
            "2       | 96.69444444444444% | 97.33333333333333%  | 96.07%     | 96.032%    | 95.83%     | [0.001]   \n",
            "3       | 98.06944444444444% | 98.83333333333333%  | 97.44%     | 97.247%    | 97.27%     | [0.001]   \n",
            "4       | 98.58333333333333% | 98.5%               | 97.2%      | 97.027%    | 97.03%     | [0.001]   \n",
            "5       | 98.93055555555556% | 98.88888888888889%  | 97.59%     | 97.263%    | 97.37%     | [0.001]   \n",
            "6       | 99.22222222222223% | 98.88888888888889%  | 97.09%     | 97.305%    | 97.12%     | [0.001]   \n",
            "7       | 99.30555555555556% | 99.05555555555556%  | 97.69%     | 97.402%    | 97.48%     | [0.001]   \n",
            "8       | 99.33333333333333% | 98.83333333333333%  | 97.46%     | 97.205%    | 97.27%     | [0.001]   \n",
            "9       | 99.30555555555556% | 99.16666666666667%  | 97.78%     | 97.518%    | 97.59%     | [0.001]   \n",
            "10      | 99.41666666666667% | 99.11111111111111%  | 97.64%     | 97.485%    | 97.5%      | [0.001]   \n",
            "11      | 99.40277777777777% | 99.22222222222223%  | 97.86%     | 97.574%    | 97.66%     | [0.001]   \n",
            "12      | 99.61111111111111% | 99.27777777777777%  | 97.92%     | 97.61%     | 97.71%     | [0.001]   \n",
            "13      | 99.65277777777777% | 99.0%               | 97.72%     | 97.362%    | 97.48%     | [0.001]   \n",
            "14      | 99.61111111111111% | 99.16666666666667%  | 97.82%     | 97.478%    | 97.59%     | [0.001]   \n",
            "15      | 99.58333333333333% | 99.11111111111111%  | 97.68%     | 97.415%    | 97.49%     | [0.001]   \n",
            "16      | 99.68055555555556% | 99.16666666666667%  | 97.7%      | 97.453%    | 97.52%     | [0.001]   \n",
            "17      | 99.80555555555556% | 99.27777777777777%  | 97.87%     | 97.567%    | 97.66%     | [0.001]   \n",
            "18      | 99.80555555555556% | 99.38888888888889%  | 97.93%     | 97.7%      | 97.77%     | [0.001]   \n",
            "19      | 99.81944444444444% | 99.11111111111111%  | 97.71%     | 97.378%    | 97.49%     | [0.001]   \n",
            "20      | 99.77777777777777% | 99.22222222222223%  | 97.76%     | 97.6%      | 97.62%     | [0.001]   \n",
            "21      | 99.91666666666667% | 99.22222222222223%  | 97.82%     | 97.535%    | 97.63%     | [0.001]   \n",
            "22      | 99.90277777777777% | 99.33333333333333%  | 98.01%     | 97.666%    | 97.79%     | [0.001]   \n",
            "23      | 99.98611111111111% | 99.33333333333333%  | 97.86%     | 97.666%    | 97.71%     | [0.001]   \n",
            "24      | 99.86111111111111% | 99.11111111111111%  | 97.75%     | 97.436%    | 97.54%     | [0.001]   \n",
            "25      | 99.94444444444444% | 98.83333333333333%  | 97.04%     | 97.141%    | 97.02%     | [0.001]   \n"
          ]
        }
      ],
      "source": [
        "batch_size, token_size = 256, 200000\n",
        "epochs = 25\n",
        "model, optimizer = get_model()\n",
        "train_accuracy = []\n",
        "valid_accuracy = []\n",
        "scheduler = torch.optim.lr_scheduler.StepLR(optimizer, step_size=30, gamma=0.1)\n",
        "\n",
        "print(f'Training cross-validation model for {epochs} epochs\\n\\n')\n",
        "print(\"{:<7} | {:<18} | {:<19} | {:<10} | {:<10} | {:<10} | {:<10}\".format('Epoch','Training Accuracy','Validation Accuracy', 'Precision', 'Recall', 'F1 Score', 'Learning Rate'))\n",
        "print('----------------------------------------------------------------------------------------------------------')\n",
        "\n",
        "for epoch in range(1, epochs + 1):\n",
        "    train_acc = train(model, optimizer, train_data, batch_size, token_size, log=False)\n",
        "    valid_acc, precision, recall, f1score = validate(model, val_data, batch_size, token_size)\n",
        "    train_accuracy.append(train_acc)\n",
        "    valid_accuracy.append(valid_acc)\n",
        "    scheduler.step()\n",
        "    # print(f'LR {scheduler.get_last_lr()}')\n",
        "\n",
        "    print(\"{:<7} | {:<18} | {:<19} | {:<10} | {:<10} | {:<10} | {:<10}\".format(f'{epoch}', f'{train_acc}%', f'{valid_acc}%', f'{precision}%', f'{recall}%', f'{f1score}%', f'{scheduler.get_last_lr()}'))"
      ]
    },
    {
      "cell_type": "code",
      "execution_count": 51,
      "id": "presidential-routine",
      "metadata": {
        "execution": {
          "iopub.execute_input": "2021-04-09T10:05:02.339057Z",
          "iopub.status.busy": "2021-04-09T10:05:02.338041Z",
          "iopub.status.idle": "2021-04-09T10:05:02.344264Z",
          "shell.execute_reply": "2021-04-09T10:05:02.343570Z"
        },
        "papermill": {
          "duration": 0.04598,
          "end_time": "2021-04-09T10:05:02.344443",
          "exception": false,
          "start_time": "2021-04-09T10:05:02.298463",
          "status": "completed"
        },
        "tags": [],
        "id": "presidential-routine",
        "colab": {
          "base_uri": "https://localhost:8080/"
        },
        "outputId": "0a696049-373d-48cc-a8b0-2a540fb89e5a"
      },
      "outputs": [
        {
          "output_type": "stream",
          "name": "stdout",
          "text": [
            "embed.weight         445568 [6962, 64]\n",
            "rnn.weight_ih_l0     49152 [768, 64]\n",
            "rnn.weight_hh_l0     196608 [768, 256]\n",
            "rnn.bias_ih_l0       768 [768]\n",
            "rnn.bias_hh_l0       768 [768]\n",
            "h2o.weight           2304 [9, 256]\n",
            "h2o.bias             9 [9]\n",
            "TOTAL                695177\n"
          ]
        }
      ],
      "source": [
        "for name, param in model.named_parameters():\n",
        "    print(f'{name:20} {param.numel()} {list(param.shape)}')\n",
        "print(f'TOTAL                {sum(p.numel() for p in model.parameters())}')"
      ]
    },
    {
      "cell_type": "code",
      "execution_count": 52,
      "id": "concrete-frontier",
      "metadata": {
        "execution": {
          "iopub.execute_input": "2021-04-09T10:05:02.434401Z",
          "iopub.status.busy": "2021-04-09T10:05:02.433689Z",
          "iopub.status.idle": "2021-04-09T10:05:02.599120Z",
          "shell.execute_reply": "2021-04-09T10:05:02.598599Z"
        },
        "papermill": {
          "duration": 0.220858,
          "end_time": "2021-04-09T10:05:02.599270",
          "exception": false,
          "start_time": "2021-04-09T10:05:02.378412",
          "status": "completed"
        },
        "tags": [],
        "id": "concrete-frontier",
        "colab": {
          "base_uri": "https://localhost:8080/",
          "height": 449
        },
        "outputId": "b13e1567-9f48-4f74-87c7-b9a0494efac3"
      },
      "outputs": [
        {
          "output_type": "display_data",
          "data": {
            "text/plain": [
              "<Figure size 640x480 with 1 Axes>"
            ],
            "image/png": "[encoded data removed]"
          },
          "metadata": {}
        }
      ],
      "source": [
        "import matplotlib.pyplot as plt\n",
        "plt.plot(range(1, len(train_accuracy)+1), train_accuracy)\n",
        "plt.plot(range(1, len(valid_accuracy)+1), valid_accuracy)\n",
        "plt.xlabel('epoch')\n",
        "plt.ylabel('Accuracy');"
      ]
    },
    {
      "cell_type": "code",
      "source": [
        "def predict(line):\n",
        "  data = np.array([char_vocab.token2idx[c] for c in line])\n",
        "  model.eval()\n",
        "\n",
        "  with torch.no_grad():\n",
        "      X = [torch.from_numpy(data)]\n",
        "      X_lengths = torch.tensor([x.numel() for x in X], dtype=torch.long)\n",
        "\n",
        "      X = torch.nn.utils.rnn.pad_sequence(X).to(device)\n",
        "      answer = model(X, X_lengths)\n",
        "\n",
        "      index = -1\n",
        "      m = -1000\n",
        "      \n",
        "      for i in range(len(answer[0])):\n",
        "        if(m < answer[0][i]):\n",
        "          m = answer[0][i]\n",
        "          index = i\n",
        "\n",
        "      for i in lang_vocab.token2idx:\n",
        "        if lang_vocab.token2idx[i] == index:\n",
        "          return(i)\n",
        "      return('Not an unsegmented language')"
      ],
      "metadata": {
        "id": "ZwGRlUNNqTOd"
      },
      "id": "ZwGRlUNNqTOd",
      "execution_count": 53,
      "outputs": []
    },
    {
      "cell_type": "code",
      "source": [
        "#From token or label to index\n",
        "batch_size, token_size = 256, 200000\n",
        "def verbose_predict(line):\n",
        "  print('Input string is: ')\n",
        "  print(line)\n",
        "  data = np.array([char_vocab.token2idx[c] for c in line])\n",
        "  print('\\nInput after processing into tokens and then converting it to a matrix with indices from char_vocab:')\n",
        "  print(data)\n",
        "  # Get input and target sequences from batch\n",
        "  model.eval()\n",
        "    # calculate accuracy on validation set\n",
        "  with torch.no_grad():\n",
        "      # Get input and target sequences from batch\n",
        "      X = [torch.from_numpy(data)]\n",
        "      X_lengths = torch.tensor([x.numel() for x in X], dtype=torch.long)\n",
        "      # Pad the input sequences to create a matrix\n",
        "      X = torch.nn.utils.rnn.pad_sequence(X).to(device)\n",
        "      answer = model(X, X_lengths)\n",
        "      print('\\nTensor corresponding to Chinese, Japanese, Korean, and Thai in order for given input is:')\n",
        "      print(answer)\n",
        "      index = -1\n",
        "      m = -1000\n",
        "      for i in range(len(answer[0])):\n",
        "        if(m < answer[0][i]):\n",
        "          m = answer[0][i]\n",
        "          index = i\n",
        "\n",
        "      for i in lang_vocab.token2idx:\n",
        "        if lang_vocab.token2idx[i] == index:\n",
        "          print('\\nFinally, language detected by RNN is: ')\n",
        "          return(i)\n",
        "      return('Not an unsegmented language')"
      ],
      "metadata": {
        "id": "P1Jq5RIyuFf0"
      },
      "id": "P1Jq5RIyuFf0",
      "execution_count": 54,
      "outputs": []
    },
    {
      "cell_type": "code",
      "source": [
        "chinese = '胡赛尼本人和小说的主人公阿米尔一样'\n",
        "\n",
        "verbose_predict(chinese)"
      ],
      "metadata": {
        "colab": {
          "base_uri": "https://localhost:8080/",
          "height": 250
        },
        "id": "JDvj3wFEqEpF",
        "outputId": "5600aaad-80a8-47dc-c2ad-53d543adf5b3"
      },
      "id": "JDvj3wFEqEpF",
      "execution_count": 55,
      "outputs": [
        {
          "output_type": "stream",
          "name": "stdout",
          "text": [
            "Input string is: \n",
            "胡赛尼本人和小说的主人公阿米尔一样\n",
            "\n",
            "Input after processing into tokens and then converting it to a matrix with indices from char_vocab:\n",
            "[4276 4925 2127 2910 1133 1659 2111 4797 3693 1073 1133 1346 5376 3984\n",
            " 2114 1037 2980]\n",
            "\n",
            "Tensor corresponding to Chinese, Japanese, Korean, and Thai in order for given input is:\n",
            "tensor([[-3.4472,  8.8343, -5.6172, -1.9979, -4.3467, -5.7823, -2.2233, -1.8794,\n",
            "         -1.3794]], device='cuda:0')\n",
            "\n",
            "Finally, language detected by RNN is: \n"
          ]
        },
        {
          "output_type": "execute_result",
          "data": {
            "text/plain": [
              "'Chinese'"
            ],
            "application/vnd.google.colaboratory.intrinsic+json": {
              "type": "string"
            }
          },
          "metadata": {},
          "execution_count": 55
        }
      ]
    },
    {
      "cell_type": "code",
      "source": [
        "k = '나는움직이는것이좋아'\n",
        "c = '我喜欢移动它移动它'\n",
        "t = 'ฉันชอบที่จะย้ายมันย้ายมัน'\n",
        "j = '私はそれを動かすのが好きです'\n",
        "kr = 'Мен кыймылдаганды жакшы көрөм'\n",
        "kh = 'ខ្ញុំចូលចិត្តផ្លាស់ទី'\n",
        "ja = 'Aku seneng pindhah'\n",
        "ar = 'انا احب التحرك'\n",
        "ge = 'მე მიყვარს გადაადგილება'\n",
        "\n",
        "print(predict(k))\n",
        "print(predict(c))\n",
        "print(predict(t))\n",
        "print(predict(j))\n",
        "print(predict(kr))\n",
        "print(predict(kh))\n",
        "print(predict(ja))\n",
        "print(predict(ar))\n",
        "print(predict(ge))"
      ],
      "metadata": {
        "id": "MM5VqcqL2khI",
        "colab": {
          "base_uri": "https://localhost:8080/"
        },
        "outputId": "a26e991c-5a5e-4cef-cac8-6ab1023bdc08"
      },
      "id": "MM5VqcqL2khI",
      "execution_count": 56,
      "outputs": [
        {
          "output_type": "stream",
          "name": "stdout",
          "text": [
            "Korean\n",
            "Chinese\n",
            "Thai\n",
            "Japanese\n",
            "Kirghiz\n",
            "Khmer\n",
            "Javanese\n",
            "Arabic\n",
            "Georgian\n"
          ]
        }
      ]
    }
  ],
  "metadata": {
    "kernelspec": {
      "display_name": "Python 3",
      "language": "python",
      "name": "python3"
    },
    "language_info": {
      "codemirror_mode": {
        "name": "ipython",
        "version": 3
      },
      "file_extension": ".py",
      "mimetype": "text/x-python",
      "name": "python",
      "nbconvert_exporter": "python",
      "pygments_lexer": "ipython3",
      "version": "3.7.9"
    },
    "papermill": {
      "default_parameters": {},
      "duration": 201.070608,
      "end_time": "2021-04-09T10:05:04.797692",
      "environment_variables": {},
      "exception": null,
      "input_path": "__notebook__.ipynb",
      "output_path": "__notebook__.ipynb",
      "parameters": {},
      "start_time": "2021-04-09T10:01:43.727084",
      "version": "2.3.2"
    },
    "colab": {
      "provenance": [],
      "include_colab_link": true
    },
    "accelerator": "GPU",
    "gpuClass": "standard"
  },
  "nbformat": 4,
  "nbformat_minor": 5
}